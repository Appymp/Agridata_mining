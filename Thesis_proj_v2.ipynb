{
 "cells": [
  {
   "cell_type": "markdown",
   "metadata": {
    "extensions": {
     "jupyter_dashboards": {
      "activeView": "grid_default",
      "version": 1,
      "views": {
       "grid_default": {
        "col": null,
        "height": 2,
        "hidden": true,
        "row": null,
        "width": 2
       },
       "report_default": {}
      }
     }
    }
   },
   "source": [
    "# Instagram vector space semantics research"
   ]
  },
  {
   "cell_type": "code",
   "execution_count": 2,
   "metadata": {
    "extensions": {
     "jupyter_dashboards": {
      "activeView": "grid_default",
      "version": 1,
      "views": {
       "grid_default": {
        "col": null,
        "height": 2,
        "hidden": true,
        "row": null,
        "width": 2
       },
       "report_default": {}
      }
     }
    }
   },
   "outputs": [],
   "source": [
    "import json\n",
    "import numpy as np\n",
    "import pandas as pd\n",
    "import matplotlib.pyplot as plt\n",
    "import seaborn as sns\n",
    "\n",
    "import unicodedata\n",
    "from langdetect import detect\n",
    "\n",
    "from wordcloud import WordCloud, STOPWORDS\n",
    "from nltk.corpus import stopwords\n",
    "\n",
    "import warnings\n",
    "warnings.filterwarnings('ignore')\n",
    "\n",
    "import os"
   ]
  },
  {
   "cell_type": "code",
   "execution_count": 3,
   "metadata": {
    "extensions": {
     "jupyter_dashboards": {
      "activeView": "grid_default",
      "version": 1,
      "views": {
       "grid_default": {
        "col": null,
        "height": 2,
        "hidden": true,
        "row": null,
        "width": 2
       },
       "report_default": {}
      }
     }
    }
   },
   "outputs": [
    {
     "data": {
      "text/html": [
       "<div>\n",
       "<style scoped>\n",
       "    .dataframe tbody tr th:only-of-type {\n",
       "        vertical-align: middle;\n",
       "    }\n",
       "\n",
       "    .dataframe tbody tr th {\n",
       "        vertical-align: top;\n",
       "    }\n",
       "\n",
       "    .dataframe thead th {\n",
       "        text-align: right;\n",
       "    }\n",
       "</style>\n",
       "<table border=\"1\" class=\"dataframe\">\n",
       "  <thead>\n",
       "    <tr style=\"text-align: right;\">\n",
       "      <th></th>\n",
       "      <th>query</th>\n",
       "      <th>timestamp</th>\n",
       "      <th>error</th>\n",
       "      <th>postUrl</th>\n",
       "      <th>profileUrl</th>\n",
       "      <th>username</th>\n",
       "      <th>fullName</th>\n",
       "      <th>commentCount</th>\n",
       "      <th>likeCount</th>\n",
       "      <th>pubDate</th>\n",
       "      <th>description</th>\n",
       "      <th>imgUrl</th>\n",
       "      <th>postId</th>\n",
       "      <th>ownerId</th>\n",
       "      <th>type</th>\n",
       "      <th>videoUrl</th>\n",
       "      <th>viewCount</th>\n",
       "    </tr>\n",
       "  </thead>\n",
       "  <tbody>\n",
       "    <tr>\n",
       "      <th>0</th>\n",
       "      <td>#organic</td>\n",
       "      <td>2021-08-06T08:34:30.222Z</td>\n",
       "      <td>No results found</td>\n",
       "      <td>NaN</td>\n",
       "      <td>NaN</td>\n",
       "      <td>NaN</td>\n",
       "      <td>NaN</td>\n",
       "      <td>NaN</td>\n",
       "      <td>NaN</td>\n",
       "      <td>NaN</td>\n",
       "      <td>NaN</td>\n",
       "      <td>NaN</td>\n",
       "      <td>NaN</td>\n",
       "      <td>NaN</td>\n",
       "      <td>NaN</td>\n",
       "      <td>NaN</td>\n",
       "      <td>NaN</td>\n",
       "    </tr>\n",
       "    <tr>\n",
       "      <th>1</th>\n",
       "      <td>#organic</td>\n",
       "      <td>2021-08-06T08:37:08.488Z</td>\n",
       "      <td>No results found</td>\n",
       "      <td>NaN</td>\n",
       "      <td>NaN</td>\n",
       "      <td>NaN</td>\n",
       "      <td>NaN</td>\n",
       "      <td>NaN</td>\n",
       "      <td>NaN</td>\n",
       "      <td>NaN</td>\n",
       "      <td>NaN</td>\n",
       "      <td>NaN</td>\n",
       "      <td>NaN</td>\n",
       "      <td>NaN</td>\n",
       "      <td>NaN</td>\n",
       "      <td>NaN</td>\n",
       "      <td>NaN</td>\n",
       "    </tr>\n",
       "    <tr>\n",
       "      <th>2</th>\n",
       "      <td>#organic</td>\n",
       "      <td>2021-08-06T09:44:31.069Z</td>\n",
       "      <td>NaN</td>\n",
       "      <td>https://www.instagram.com/p/CSOnatvnYsU/</td>\n",
       "      <td>https://www.instagram.com/foodout21</td>\n",
       "      <td>foodout21</td>\n",
       "      <td>Som Singh</td>\n",
       "      <td>0.0</td>\n",
       "      <td>0.0</td>\n",
       "      <td>2021-08-06T09:44:22.000Z</td>\n",
       "      <td>#l4l #f4f #likeforlike  #instalikesandfollowers4u #nature #instagood #organic #fff #love #vegandiet #nutricious #followforfollow #photooftheday #lfl #like4like #instalike #vegetables #instafood #healthyfood #follow4follow #food #instadaily @rocket_hastags #healthy #foodpics #veganlife</td>\n",
       "      <td>https://scontent-lhr8-1.cdninstagram.com/v/t51.2885-15/e35/233679786_3987731464668891_529215599653319727_n.jpg?_nc_ht=scontent-lhr8-1.cdninstagram.com&amp;_nc_cat=103&amp;_nc_ohc=tgQJNprk4HwAX-bXXR9&amp;edm=ABZsPhsBAAAA&amp;ccb=7-4&amp;oh=54d10aa13a15440590967464b19e3c29&amp;oe=611315D8&amp;_nc_sid=4efc9f&amp;ig_cache_key=MjYzNDIxNjE5MTY5NTg4MzAyOA%3D%3D.2-ccb7-4</td>\n",
       "      <td>2.634216e+18</td>\n",
       "      <td>4.868702e+10</td>\n",
       "      <td>Photo</td>\n",
       "      <td>NaN</td>\n",
       "      <td>NaN</td>\n",
       "    </tr>\n",
       "    <tr>\n",
       "      <th>3</th>\n",
       "      <td>#organic</td>\n",
       "      <td>2021-08-06T09:44:31.069Z</td>\n",
       "      <td>NaN</td>\n",
       "      <td>https://www.instagram.com/p/CSOnanrLQli/</td>\n",
       "      <td>https://www.instagram.com/carboncoco.cz</td>\n",
       "      <td>carboncoco.cz</td>\n",
       "      <td>CarbonCoco Česká Republika</td>\n",
       "      <td>0.0</td>\n",
       "      <td>0.0</td>\n",
       "      <td>2021-08-06T09:44:21.000Z</td>\n",
       "      <td>Originál je pouze jeden! Posílame každý den kurýrem přímo k vám..📬 Děkujeme za krásné foto..❤️ https://carboncoco.cz/ ⚫️👉🏽😁👉🏽💎 @carboncoco_cz #přírodní #bělení #zubů #krásnej #zdravej #bílej #úsměv #bezbolesti #bezchemie #naturalbeauty #organic #whiteteeth #veganfriendly #nottestedonanimals #🐾❤</td>\n",
       "      <td>https://scontent-lhr8-1.cdninstagram.com/v/t51.2885-15/e35/232412268_526973671848863_6524457970286802515_n.jpg?_nc_ht=scontent-lhr8-1.cdninstagram.com&amp;_nc_cat=111&amp;_nc_ohc=9vQrTLY4G_UAX-WvRgT&amp;edm=ABZsPhsBAAAA&amp;ccb=7-4&amp;oh=aa1ac9df30470cbbcf7bdbc7c95acb4a&amp;oe=6113E033&amp;_nc_sid=4efc9f&amp;ig_cache_key=MjYzNDIxNjE4NTE3ODk0OTk4Ng%3D%3D.2-ccb7-4</td>\n",
       "      <td>2.634216e+18</td>\n",
       "      <td>6.939315e+09</td>\n",
       "      <td>Photo</td>\n",
       "      <td>NaN</td>\n",
       "      <td>NaN</td>\n",
       "    </tr>\n",
       "    <tr>\n",
       "      <th>4</th>\n",
       "      <td>#organic</td>\n",
       "      <td>2021-08-06T09:44:31.069Z</td>\n",
       "      <td>NaN</td>\n",
       "      <td>https://www.instagram.com/p/CSOnZ0bD9n7/</td>\n",
       "      <td>https://www.instagram.com/sourdoughlybread</td>\n",
       "      <td>sourdoughlybread</td>\n",
       "      <td>Sourdoughly</td>\n",
       "      <td>0.0</td>\n",
       "      <td>0.0</td>\n",
       "      <td>2021-08-06T09:44:15.000Z</td>\n",
       "      <td>R&amp;amp;D\\n.\\n.\\n.\\n.\\n.\\n.\\n.\\n.\\n\\n#organic #organicbread #homebaker #homebakery #realbread #properbread #artisanbread #naturallyleaven #leavenbread #sourdough #sourdoughlybread #breaddiaries #bread #homebaking #homemadebread #breadmaking #peckham #foresthill</td>\n",
       "      <td>https://scontent-lhr8-2.cdninstagram.com/v/t51.2885-15/e35/233671587_247345317223226_1436442095672934247_n.jpg?_nc_ht=scontent-lhr8-2.cdninstagram.com&amp;_nc_cat=102&amp;_nc_ohc=EG_NhMpmUj4AX9T8ctJ&amp;edm=ABZsPhsBAAAA&amp;ccb=7-4&amp;oh=7af45d0c391a1fa96c6cdc29d67a2950&amp;oe=611373D6&amp;_nc_sid=4efc9f&amp;ig_cache_key=MjYzNDIxNjEzMDE0Nzc2ODgyNw%3D%3D.2-ccb7-4</td>\n",
       "      <td>2.634216e+18</td>\n",
       "      <td>6.662659e+09</td>\n",
       "      <td>Photo</td>\n",
       "      <td>NaN</td>\n",
       "      <td>NaN</td>\n",
       "    </tr>\n",
       "  </tbody>\n",
       "</table>\n",
       "</div>"
      ],
      "text/plain": [
       "       query                 timestamp             error  \\\n",
       "0  #organic   2021-08-06T08:34:30.222Z  No results found   \n",
       "1  #organic   2021-08-06T08:37:08.488Z  No results found   \n",
       "2  #organic   2021-08-06T09:44:31.069Z               NaN   \n",
       "3  #organic   2021-08-06T09:44:31.069Z               NaN   \n",
       "4  #organic   2021-08-06T09:44:31.069Z               NaN   \n",
       "\n",
       "                                    postUrl  \\\n",
       "0                                       NaN   \n",
       "1                                       NaN   \n",
       "2  https://www.instagram.com/p/CSOnatvnYsU/   \n",
       "3  https://www.instagram.com/p/CSOnanrLQli/   \n",
       "4  https://www.instagram.com/p/CSOnZ0bD9n7/   \n",
       "\n",
       "                                   profileUrl          username  \\\n",
       "0                                         NaN               NaN   \n",
       "1                                         NaN               NaN   \n",
       "2         https://www.instagram.com/foodout21         foodout21   \n",
       "3     https://www.instagram.com/carboncoco.cz     carboncoco.cz   \n",
       "4  https://www.instagram.com/sourdoughlybread  sourdoughlybread   \n",
       "\n",
       "                     fullName  commentCount  likeCount  \\\n",
       "0                         NaN           NaN        NaN   \n",
       "1                         NaN           NaN        NaN   \n",
       "2                   Som Singh           0.0        0.0   \n",
       "3  CarbonCoco Česká Republika           0.0        0.0   \n",
       "4                 Sourdoughly           0.0        0.0   \n",
       "\n",
       "                    pubDate  \\\n",
       "0                       NaN   \n",
       "1                       NaN   \n",
       "2  2021-08-06T09:44:22.000Z   \n",
       "3  2021-08-06T09:44:21.000Z   \n",
       "4  2021-08-06T09:44:15.000Z   \n",
       "\n",
       "                                                                                                                                                                                                                                                                                                                    description  \\\n",
       "0                                                                                                                                                                                                                                                                                                                           NaN   \n",
       "1                                                                                                                                                                                                                                                                                                                           NaN   \n",
       "2                                 #l4l #f4f #likeforlike  #instalikesandfollowers4u #nature #instagood #organic #fff #love #vegandiet #nutricious #followforfollow #photooftheday #lfl #like4like #instalike #vegetables #instafood #healthyfood #follow4follow #food #instadaily @rocket_hastags #healthy #foodpics #veganlife   \n",
       "3  Originál je pouze jeden! Posílame každý den kurýrem přímo k vám..📬 Děkujeme za krásné foto..❤️ https://carboncoco.cz/ ⚫️👉🏽😁👉🏽💎 @carboncoco_cz #přírodní #bělení #zubů #krásnej #zdravej #bílej #úsměv #bezbolesti #bezchemie #naturalbeauty #organic #whiteteeth #veganfriendly #nottestedonanimals #🐾❤   \n",
       "4                                                           R&amp;D\\n.\\n.\\n.\\n.\\n.\\n.\\n.\\n.\\n\\n#organic #organicbread #homebaker #homebakery #realbread #properbread #artisanbread #naturallyleaven #leavenbread #sourdough #sourdoughlybread #breaddiaries #bread #homebaking #homemadebread #breadmaking #peckham #foresthill   \n",
       "\n",
       "                                                                                                                                                                                                                                                                                                                                          imgUrl  \\\n",
       "0                                                                                                                                                                                                                                                                                                                                            NaN   \n",
       "1                                                                                                                                                                                                                                                                                                                                            NaN   \n",
       "2  https://scontent-lhr8-1.cdninstagram.com/v/t51.2885-15/e35/233679786_3987731464668891_529215599653319727_n.jpg?_nc_ht=scontent-lhr8-1.cdninstagram.com&_nc_cat=103&_nc_ohc=tgQJNprk4HwAX-bXXR9&edm=ABZsPhsBAAAA&ccb=7-4&oh=54d10aa13a15440590967464b19e3c29&oe=611315D8&_nc_sid=4efc9f&ig_cache_key=MjYzNDIxNjE5MTY5NTg4MzAyOA%3D%3D.2-ccb7-4   \n",
       "3  https://scontent-lhr8-1.cdninstagram.com/v/t51.2885-15/e35/232412268_526973671848863_6524457970286802515_n.jpg?_nc_ht=scontent-lhr8-1.cdninstagram.com&_nc_cat=111&_nc_ohc=9vQrTLY4G_UAX-WvRgT&edm=ABZsPhsBAAAA&ccb=7-4&oh=aa1ac9df30470cbbcf7bdbc7c95acb4a&oe=6113E033&_nc_sid=4efc9f&ig_cache_key=MjYzNDIxNjE4NTE3ODk0OTk4Ng%3D%3D.2-ccb7-4   \n",
       "4  https://scontent-lhr8-2.cdninstagram.com/v/t51.2885-15/e35/233671587_247345317223226_1436442095672934247_n.jpg?_nc_ht=scontent-lhr8-2.cdninstagram.com&_nc_cat=102&_nc_ohc=EG_NhMpmUj4AX9T8ctJ&edm=ABZsPhsBAAAA&ccb=7-4&oh=7af45d0c391a1fa96c6cdc29d67a2950&oe=611373D6&_nc_sid=4efc9f&ig_cache_key=MjYzNDIxNjEzMDE0Nzc2ODgyNw%3D%3D.2-ccb7-4   \n",
       "\n",
       "         postId       ownerId   type videoUrl  viewCount  \n",
       "0           NaN           NaN    NaN      NaN        NaN  \n",
       "1           NaN           NaN    NaN      NaN        NaN  \n",
       "2  2.634216e+18  4.868702e+10  Photo      NaN        NaN  \n",
       "3  2.634216e+18  6.939315e+09  Photo      NaN        NaN  \n",
       "4  2.634216e+18  6.662659e+09  Photo      NaN        NaN  "
      ]
     },
     "execution_count": 3,
     "metadata": {},
     "output_type": "execute_result"
    }
   ],
   "source": [
    "pd.set_option('display.max_columns', None) #display all columns.pass none to the max_col parameter\n",
    "pd.set_option('display.max_colwidth', None) #for indivdual cell full display\n",
    "\n",
    "organic=pd.read_csv('Organic_6_aug.csv')\n",
    "organic.head()"
   ]
  },
  {
   "cell_type": "code",
   "execution_count": 4,
   "metadata": {
    "extensions": {
     "jupyter_dashboards": {
      "activeView": "grid_default",
      "version": 1,
      "views": {
       "grid_default": {
        "col": null,
        "height": 2,
        "hidden": true,
        "row": null,
        "width": 2
       },
       "report_default": {}
      }
     }
    }
   },
   "outputs": [
    {
     "data": {
      "text/html": [
       "<div>\n",
       "<style scoped>\n",
       "    .dataframe tbody tr th:only-of-type {\n",
       "        vertical-align: middle;\n",
       "    }\n",
       "\n",
       "    .dataframe tbody tr th {\n",
       "        vertical-align: top;\n",
       "    }\n",
       "\n",
       "    .dataframe thead th {\n",
       "        text-align: right;\n",
       "    }\n",
       "</style>\n",
       "<table border=\"1\" class=\"dataframe\">\n",
       "  <thead>\n",
       "    <tr style=\"text-align: right;\">\n",
       "      <th></th>\n",
       "      <th>ix</th>\n",
       "      <th>query</th>\n",
       "      <th>timestamp</th>\n",
       "      <th>error</th>\n",
       "      <th>postUrl</th>\n",
       "      <th>profileUrl</th>\n",
       "      <th>username</th>\n",
       "      <th>fullName</th>\n",
       "      <th>commentCount</th>\n",
       "      <th>likeCount</th>\n",
       "      <th>pubDate</th>\n",
       "      <th>description</th>\n",
       "      <th>imgUrl</th>\n",
       "      <th>postId</th>\n",
       "      <th>ownerId</th>\n",
       "      <th>type</th>\n",
       "      <th>videoUrl</th>\n",
       "      <th>viewCount</th>\n",
       "    </tr>\n",
       "  </thead>\n",
       "  <tbody>\n",
       "    <tr>\n",
       "      <th>0</th>\n",
       "      <td>0</td>\n",
       "      <td>#organic</td>\n",
       "      <td>2021-08-06T09:44:31.069Z</td>\n",
       "      <td>NaN</td>\n",
       "      <td>https://www.instagram.com/p/CSOnatvnYsU/</td>\n",
       "      <td>https://www.instagram.com/foodout21</td>\n",
       "      <td>foodout21</td>\n",
       "      <td>Som Singh</td>\n",
       "      <td>0.0</td>\n",
       "      <td>0.0</td>\n",
       "      <td>2021-08-06T09:44:22.000Z</td>\n",
       "      <td>#l4l #f4f #likeforlike  #instalikesandfollowers4u #nature #instagood #organic #fff #love #vegandiet #nutricious #followforfollow #photooftheday #lfl #like4like #instalike #vegetables #instafood #healthyfood #follow4follow #food #instadaily @rocket_hastags #healthy #foodpics #veganlife</td>\n",
       "      <td>https://scontent-lhr8-1.cdninstagram.com/v/t51.2885-15/e35/233679786_3987731464668891_529215599653319727_n.jpg?_nc_ht=scontent-lhr8-1.cdninstagram.com&amp;_nc_cat=103&amp;_nc_ohc=tgQJNprk4HwAX-bXXR9&amp;edm=ABZsPhsBAAAA&amp;ccb=7-4&amp;oh=54d10aa13a15440590967464b19e3c29&amp;oe=611315D8&amp;_nc_sid=4efc9f&amp;ig_cache_key=MjYzNDIxNjE5MTY5NTg4MzAyOA%3D%3D.2-ccb7-4</td>\n",
       "      <td>2.634216e+18</td>\n",
       "      <td>4.868702e+10</td>\n",
       "      <td>Photo</td>\n",
       "      <td>NaN</td>\n",
       "      <td>NaN</td>\n",
       "    </tr>\n",
       "    <tr>\n",
       "      <th>1</th>\n",
       "      <td>1</td>\n",
       "      <td>#organic</td>\n",
       "      <td>2021-08-06T09:44:31.069Z</td>\n",
       "      <td>NaN</td>\n",
       "      <td>https://www.instagram.com/p/CSOnanrLQli/</td>\n",
       "      <td>https://www.instagram.com/carboncoco.cz</td>\n",
       "      <td>carboncoco.cz</td>\n",
       "      <td>CarbonCoco Česká Republika</td>\n",
       "      <td>0.0</td>\n",
       "      <td>0.0</td>\n",
       "      <td>2021-08-06T09:44:21.000Z</td>\n",
       "      <td>Originál je pouze jeden! Posílame každý den kurýrem přímo k vám..📬 Děkujeme za krásné foto..❤️ https://carboncoco.cz/ ⚫️👉🏽😁👉🏽💎 @carboncoco_cz #přírodní #bělení #zubů #krásnej #zdravej #bílej #úsměv #bezbolesti #bezchemie #naturalbeauty #organic #whiteteeth #veganfriendly #nottestedonanimals #🐾❤</td>\n",
       "      <td>https://scontent-lhr8-1.cdninstagram.com/v/t51.2885-15/e35/232412268_526973671848863_6524457970286802515_n.jpg?_nc_ht=scontent-lhr8-1.cdninstagram.com&amp;_nc_cat=111&amp;_nc_ohc=9vQrTLY4G_UAX-WvRgT&amp;edm=ABZsPhsBAAAA&amp;ccb=7-4&amp;oh=aa1ac9df30470cbbcf7bdbc7c95acb4a&amp;oe=6113E033&amp;_nc_sid=4efc9f&amp;ig_cache_key=MjYzNDIxNjE4NTE3ODk0OTk4Ng%3D%3D.2-ccb7-4</td>\n",
       "      <td>2.634216e+18</td>\n",
       "      <td>6.939315e+09</td>\n",
       "      <td>Photo</td>\n",
       "      <td>NaN</td>\n",
       "      <td>NaN</td>\n",
       "    </tr>\n",
       "  </tbody>\n",
       "</table>\n",
       "</div>"
      ],
      "text/plain": [
       "  ix      query                 timestamp error  \\\n",
       "0  0  #organic   2021-08-06T09:44:31.069Z   NaN   \n",
       "1  1  #organic   2021-08-06T09:44:31.069Z   NaN   \n",
       "\n",
       "                                    postUrl  \\\n",
       "0  https://www.instagram.com/p/CSOnatvnYsU/   \n",
       "1  https://www.instagram.com/p/CSOnanrLQli/   \n",
       "\n",
       "                                profileUrl       username  \\\n",
       "0      https://www.instagram.com/foodout21      foodout21   \n",
       "1  https://www.instagram.com/carboncoco.cz  carboncoco.cz   \n",
       "\n",
       "                     fullName  commentCount  likeCount  \\\n",
       "0                   Som Singh           0.0        0.0   \n",
       "1  CarbonCoco Česká Republika           0.0        0.0   \n",
       "\n",
       "                    pubDate  \\\n",
       "0  2021-08-06T09:44:22.000Z   \n",
       "1  2021-08-06T09:44:21.000Z   \n",
       "\n",
       "                                                                                                                                                                                                                                                                                                                    description  \\\n",
       "0                                 #l4l #f4f #likeforlike  #instalikesandfollowers4u #nature #instagood #organic #fff #love #vegandiet #nutricious #followforfollow #photooftheday #lfl #like4like #instalike #vegetables #instafood #healthyfood #follow4follow #food #instadaily @rocket_hastags #healthy #foodpics #veganlife   \n",
       "1  Originál je pouze jeden! Posílame každý den kurýrem přímo k vám..📬 Děkujeme za krásné foto..❤️ https://carboncoco.cz/ ⚫️👉🏽😁👉🏽💎 @carboncoco_cz #přírodní #bělení #zubů #krásnej #zdravej #bílej #úsměv #bezbolesti #bezchemie #naturalbeauty #organic #whiteteeth #veganfriendly #nottestedonanimals #🐾❤   \n",
       "\n",
       "                                                                                                                                                                                                                                                                                                                                          imgUrl  \\\n",
       "0  https://scontent-lhr8-1.cdninstagram.com/v/t51.2885-15/e35/233679786_3987731464668891_529215599653319727_n.jpg?_nc_ht=scontent-lhr8-1.cdninstagram.com&_nc_cat=103&_nc_ohc=tgQJNprk4HwAX-bXXR9&edm=ABZsPhsBAAAA&ccb=7-4&oh=54d10aa13a15440590967464b19e3c29&oe=611315D8&_nc_sid=4efc9f&ig_cache_key=MjYzNDIxNjE5MTY5NTg4MzAyOA%3D%3D.2-ccb7-4   \n",
       "1  https://scontent-lhr8-1.cdninstagram.com/v/t51.2885-15/e35/232412268_526973671848863_6524457970286802515_n.jpg?_nc_ht=scontent-lhr8-1.cdninstagram.com&_nc_cat=111&_nc_ohc=9vQrTLY4G_UAX-WvRgT&edm=ABZsPhsBAAAA&ccb=7-4&oh=aa1ac9df30470cbbcf7bdbc7c95acb4a&oe=6113E033&_nc_sid=4efc9f&ig_cache_key=MjYzNDIxNjE4NTE3ODk0OTk4Ng%3D%3D.2-ccb7-4   \n",
       "\n",
       "         postId       ownerId   type videoUrl  viewCount  \n",
       "0  2.634216e+18  4.868702e+10  Photo      NaN        NaN  \n",
       "1  2.634216e+18  6.939315e+09  Photo      NaN        NaN  "
      ]
     },
     "execution_count": 4,
     "metadata": {},
     "output_type": "execute_result"
    }
   ],
   "source": [
    "organic=pd.read_csv('Organic_6_aug.csv')\n",
    "organic.drop(list(range(0,2)),inplace=True) #Drop first 2 entries since Nan failed attempts\n",
    "organic.reset_index(inplace= True,drop=True)\n",
    "organic.reset_index(inplace= True)\n",
    "organic.rename(columns={\"index\": \"ix\"},inplace=True) #replace index so that can keep proper ref after dropping rows\n",
    "organic['ix']=organic['ix'].astype(str) #convert to string type\n",
    "organic.head(2)\n"
   ]
  },
  {
   "cell_type": "code",
   "execution_count": 5,
   "metadata": {
    "extensions": {
     "jupyter_dashboards": {
      "activeView": "grid_default",
      "version": 1,
      "views": {
       "grid_default": {
        "col": null,
        "height": 2,
        "hidden": true,
        "row": null,
        "width": 2
       },
       "report_default": {}
      }
     }
    }
   },
   "outputs": [],
   "source": [
    "  \n",
    "def desc_cleaning(org_str): #some hashtags ariie not separated by a space. This affects dash table display.\n",
    "    orig_str=str(org_str)\n",
    "    new_str = orig_str.replace('#',\" #\") \n",
    "    new_str2 = new_str.replace('  ',\" \")\n",
    "    return new_str2\n",
    "\n",
    "\n",
    "\n",
    "def desc_splitting(df): \n",
    "    df_upd=df\n",
    "    df_upd['clean_captions']=\" \"\n",
    "    df_upd['hashtags']=\" \"\n",
    "    df_upd['cap_mentions']=\" \"\n",
    "    df_upd['web_links']=\" \"\n",
    "    \n",
    "    for ind,row in df_upd.iterrows():\n",
    "        X=str(row['new_desc']).split() #Make sure the description column is cleaned before this.\n",
    "        X_cc=[]\n",
    "        X_hstgs=[]\n",
    "        X_cms=[]\n",
    "        X_http=[]\n",
    "        \n",
    "        for x in X:\n",
    "            \n",
    "            \n",
    "            \n",
    "            if not (x.startswith(('#','@','http')) or ('www.' in x) or ('.com' in x)) :\n",
    "                X_cc.append(x)\n",
    "                \n",
    "            if x.startswith('#'):\n",
    "                X_hstgs.append(x)    \n",
    "                \n",
    "            if x.startswith('@'):\n",
    "                X_cms.append(x)\n",
    "                \n",
    "            if (x.startswith('http') or ('www.' in x) or ('.com' in x)):\n",
    "                X_http.append(x)\n",
    "                \n",
    "\n",
    "\n",
    "        df_upd.at[ind,'clean_captions'] = ' '.join(X_cc)        \n",
    "        df_upd.at[ind,'hashtags'] = ' '.join(X_hstgs)\n",
    "        df_upd.at[ind,'cap_mentions'] = ' '.join(X_cms)\n",
    "        df_upd.at[ind,'web_links'] = ' '.join(X_http)\n",
    "    \n",
    "    return df_upd\n",
    "\n",
    "\n",
    "def new_cols(df):\n",
    "    df['new_desc'] = df['description'].apply(lambda x : desc_cleaning(x))\n",
    "    df_updated=desc_splitting(df)\n",
    "    return df_updated\n",
    "    \n",
    "            "
   ]
  },
  {
   "cell_type": "code",
   "execution_count": 7,
   "metadata": {},
   "outputs": [],
   "source": [
    "df_updated=new_cols(organic)\n",
    "#df_updated.tail(1)"
   ]
  },
  {
   "cell_type": "code",
   "execution_count": 8,
   "metadata": {
    "extensions": {
     "jupyter_dashboards": {
      "activeView": "grid_default",
      "version": 1,
      "views": {
       "grid_default": {
        "col": null,
        "height": 2,
        "hidden": true,
        "row": null,
        "width": 2
       },
       "report_default": {}
      }
     }
    }
   },
   "outputs": [
    {
     "name": "stdout",
     "output_type": "stream",
     "text": [
      "['ix', 'query', 'timestamp', 'error', 'postUrl', 'profileUrl', 'username', 'fullName', 'commentCount', 'likeCount', 'pubDate', 'description', 'imgUrl', 'postId', 'ownerId', 'type', 'videoUrl', 'viewCount', 'new_desc', 'clean_captions', 'hashtags', 'cap_mentions', 'web_links']\n"
     ]
    },
    {
     "data": {
      "text/html": [
       "<div>\n",
       "<style scoped>\n",
       "    .dataframe tbody tr th:only-of-type {\n",
       "        vertical-align: middle;\n",
       "    }\n",
       "\n",
       "    .dataframe tbody tr th {\n",
       "        vertical-align: top;\n",
       "    }\n",
       "\n",
       "    .dataframe thead th {\n",
       "        text-align: right;\n",
       "    }\n",
       "</style>\n",
       "<table border=\"1\" class=\"dataframe\">\n",
       "  <thead>\n",
       "    <tr style=\"text-align: right;\">\n",
       "      <th></th>\n",
       "      <th>description</th>\n",
       "      <th>new_desc</th>\n",
       "      <th>clean_captions</th>\n",
       "    </tr>\n",
       "  </thead>\n",
       "  <tbody>\n",
       "    <tr>\n",
       "      <th>11</th>\n",
       "      <td>Shatkratu is one of the 10 sacred flowers (Dashpushpam) in Kerala, also called \"Love in a Puff\". Enhances hair growth, thickening &amp;amp; reduces hair fall strengthening the hair roots.\\n.\\n.\\n#Advaitam #AdvaitamAyurveda #Shatkratu #LoveInPuff #Benefits #Ayurveda #AyurvedaIndia #AyurvedaLifestyle #Ayurvedic #AyurvedicHerbs #AyurvedicProducts #Beauty #SkinCare #SkincareProducts #AyurvedaLife #NaturalProducts #Organic #Haircare #HaircareProducts #Authentic #AyurvedicBeauty #PowerOfAyurveda #SwitchToAyurveda #Wellness #BeautyAndWellness #Hairfall #AntiHairfall #HealthyScalp #HealthyHair #Friday</td>\n",
       "      <td>Shatkratu is one of the 10 sacred flowers (Dashpushpam) in Kerala, also called \"Love in a Puff\". Enhances hair growth, thickening &amp;amp; reduces hair fall strengthening the hair roots.\\n.\\n.\\n #Advaitam #AdvaitamAyurveda #Shatkratu #LoveInPuff #Benefits #Ayurveda #AyurvedaIndia #AyurvedaLifestyle #Ayurvedic #AyurvedicHerbs #AyurvedicProducts #Beauty #SkinCare #SkincareProducts #AyurvedaLife #NaturalProducts #Organic #Haircare #HaircareProducts #Authentic #AyurvedicBeauty #PowerOfAyurveda #SwitchToAyurveda #Wellness #BeautyAndWellness #Hairfall #AntiHairfall #HealthyScalp #HealthyHair #Friday</td>\n",
       "      <td>Shatkratu is one of the 10 sacred flowers (Dashpushpam) in Kerala, also called \"Love in a Puff\". Enhances hair growth, thickening &amp;amp; reduces hair fall strengthening the hair roots. . .</td>\n",
       "    </tr>\n",
       "  </tbody>\n",
       "</table>\n",
       "</div>"
      ],
      "text/plain": [
       "                                                                                                                                                                                                                                                                                                                                                                                                                                                                                                                                                                                                             description  \\\n",
       "11  Shatkratu is one of the 10 sacred flowers (Dashpushpam) in Kerala, also called \"Love in a Puff\". Enhances hair growth, thickening &amp; reduces hair fall strengthening the hair roots.\\n.\\n.\\n#Advaitam #AdvaitamAyurveda #Shatkratu #LoveInPuff #Benefits #Ayurveda #AyurvedaIndia #AyurvedaLifestyle #Ayurvedic #AyurvedicHerbs #AyurvedicProducts #Beauty #SkinCare #SkincareProducts #AyurvedaLife #NaturalProducts #Organic #Haircare #HaircareProducts #Authentic #AyurvedicBeauty #PowerOfAyurveda #SwitchToAyurveda #Wellness #BeautyAndWellness #Hairfall #AntiHairfall #HealthyScalp #HealthyHair #Friday   \n",
       "\n",
       "                                                                                                                                                                                                                                                                                                                                                                                                                                                                                                                                                                                                                 new_desc  \\\n",
       "11  Shatkratu is one of the 10 sacred flowers (Dashpushpam) in Kerala, also called \"Love in a Puff\". Enhances hair growth, thickening &amp; reduces hair fall strengthening the hair roots.\\n.\\n.\\n #Advaitam #AdvaitamAyurveda #Shatkratu #LoveInPuff #Benefits #Ayurveda #AyurvedaIndia #AyurvedaLifestyle #Ayurvedic #AyurvedicHerbs #AyurvedicProducts #Beauty #SkinCare #SkincareProducts #AyurvedaLife #NaturalProducts #Organic #Haircare #HaircareProducts #Authentic #AyurvedicBeauty #PowerOfAyurveda #SwitchToAyurveda #Wellness #BeautyAndWellness #Hairfall #AntiHairfall #HealthyScalp #HealthyHair #Friday   \n",
       "\n",
       "                                                                                                                                                                                 clean_captions  \n",
       "11  Shatkratu is one of the 10 sacred flowers (Dashpushpam) in Kerala, also called \"Love in a Puff\". Enhances hair growth, thickening &amp; reduces hair fall strengthening the hair roots. . .  "
      ]
     },
     "execution_count": 8,
     "metadata": {},
     "output_type": "execute_result"
    }
   ],
   "source": [
    "#Use this template to update the columns order\n",
    "cols = df_updated.columns.tolist()\n",
    "print(cols)\n",
    "\n",
    "# df_updated=df_updated[['query',\n",
    "#  'timestamp',\n",
    "#  'error',\n",
    "#  'postUrl',\n",
    "#  'profileUrl',\n",
    "#  'username',\n",
    "#  'fullName',\n",
    "#  'commentCount',\n",
    "#  'likeCount',\n",
    "#  'pubDate',\n",
    "#  'description',\n",
    "#  'clean_captions',\n",
    "#  'hashtags',\n",
    "#  'cap_mentions',\n",
    "#  'web_links',\n",
    "#  'imgUrl',\n",
    "#  'postId',\n",
    "#  'ownerId',\n",
    "#  'type',\n",
    "#  'videoUrl',\n",
    "#  'viewCount',\n",
    "#  ]]\n",
    "#pd.DataFrame(df_updated.iloc[6])\n",
    "#df_updated.iloc[4:5]\n",
    "\n",
    "\n",
    "#Cut the dataframe into desired views \n",
    "view1=['description','new_desc','clean_captions' ]\n",
    "\n",
    "\n",
    "df_updated[view1].loc[[11]]"
   ]
  },
  {
   "cell_type": "markdown",
   "metadata": {
    "extensions": {
     "jupyter_dashboards": {
      "activeView": "grid_default",
      "version": 1,
      "views": {
       "grid_default": {
        "col": 0,
        "height": 3,
        "hidden": false,
        "row": 0,
        "width": 12
       },
       "report_default": {}
      }
     }
    }
   },
   "source": [
    "# Caption Processing step 1 -\n",
    "    convert to lower case, remove punctuation, remove apostrophe.\n",
    "    can make more specific alteration of num2words."
   ]
  },
  {
   "cell_type": "code",
   "execution_count": 9,
   "metadata": {
    "extensions": {
     "jupyter_dashboards": {
      "activeView": "grid_default",
      "version": 1,
      "views": {
       "grid_default": {
        "col": 0,
        "height": 4,
        "hidden": true,
        "row": 5,
        "width": 12
       },
       "report_default": {}
      }
     }
    }
   },
   "outputs": [],
   "source": [
    "#Use these transformations instead of regex of only alphabets.Can separate for num2word as in the previous step\n",
    "\n",
    "\n",
    "def font_uniformity(x):\n",
    "    return unicodedata.normalize('NFKC', x)\n",
    "\n",
    "\n",
    "def convert_lower_case(s):\n",
    "    return np.char.lower(s)\n",
    "\n",
    "\n",
    "def remove_punctuation(data):\n",
    "    symbols = \"!\\\"#$%&()*+-.•/:;<=>?@[\\]^_`{|}~\\n\"\n",
    "    for i in range(len(symbols)):\n",
    "        data = np.char.replace(data, symbols[i], ' ')\n",
    "    \n",
    "    data = np.char.replace(data, \"  \", \" \")\n",
    "    data = np.char.replace(data, ',', '')\n",
    "    return data\n",
    "\n",
    "\n",
    "def diff_encodings(s):\n",
    "    s = np.char.replace(s, \"…\", \" \")\n",
    "    s = np.char.replace(s, \"’\", \"\")\n",
    "    return s\n",
    "\n",
    "\n",
    "#Change to reference 'clean_captions' bypass step 1\n",
    "df_updated['caption_processed']=df_updated['clean_captions'].apply(lambda x: font_uniformity(x))\n",
    "df_updated['caption_processed_2']=df_updated['caption_processed'].apply(lambda x: convert_lower_case(x))\n",
    "df_updated['caption_processed_3']=df_updated['caption_processed_2'].apply(lambda x: remove_punctuation(x))\n",
    "df_updated['caption_processed_4']=df_updated['caption_processed_3'].apply(lambda x: diff_encodings(x))\n"
   ]
  },
  {
   "cell_type": "code",
   "execution_count": 10,
   "metadata": {
    "extensions": {
     "jupyter_dashboards": {
      "activeView": "grid_default",
      "views": {
       "grid_default": {
        "col": 0,
        "height": 9,
        "hidden": false,
        "row": 4,
        "width": 12
       }
      }
     }
    }
   },
   "outputs": [],
   "source": [
    "#Add column to viewing dataframe\n",
    "view2=[]\n",
    "view2=['clean_captions','caption_processed','caption_processed_2', 'caption_processed_3', 'caption_processed_4']\n",
    "#view2=view1+view2\n",
    "\n",
    "\n",
    "\n",
    "\n",
    "#define the rows to display-exemplars of diff test cases\n",
    "ex_row_list=[11,13,23,106]\n",
    "\n",
    "#df_updated[view2].loc[ex_row_list]\n",
    "\n",
    "#df_updated[view2].head(30)"
   ]
  },
  {
   "cell_type": "code",
   "execution_count": 11,
   "metadata": {
    "extensions": {
     "jupyter_dashboards": {
      "activeView": "grid_default",
      "version": 1,
      "views": {
       "grid_default": {
        "col": null,
        "height": 2,
        "hidden": true,
        "row": null,
        "width": 2
       },
       "report_default": {}
      }
     }
    }
   },
   "outputs": [],
   "source": [
    "#Count descriptions in different languages. English and French main it appears.\n",
    "\n",
    "# \"Textblob requires internet because uses google API for lang detection. Too many requests error\n",
    "#from langdetect import detect\n",
    "\n",
    "def lang_det(st):\n",
    "    try:\n",
    "        lang=detect(st)\n",
    "        return lang\n",
    "    \n",
    "    except:\n",
    "        lang=\"error\"\n",
    "        return lang\n",
    "    \n",
    "\n",
    "\n",
    "view3=['det_lang']\n",
    "view3= view2+view3\n",
    "\n",
    "df_updated['det_lang']= df_updated['caption_processed_2'].apply(lambda x: lang_det(x))\n",
    "\n",
    "\n"
   ]
  },
  {
   "cell_type": "code",
   "execution_count": 13,
   "metadata": {
    "extensions": {
     "jupyter_dashboards": {
      "activeView": "grid_default",
      "version": 1,
      "views": {
       "grid_default": {
        "col": 0,
        "height": 6,
        "hidden": false,
        "row": 13,
        "width": 8
       },
       "report_default": {}
      }
     }
    }
   },
   "outputs": [
    {
     "data": {
      "image/png": "[encoded data removed]",
      "text/plain": [
       "<Figure size 1152x432 with 1 Axes>"
      ]
     },
     "metadata": {
      "needs_background": "light"
     },
     "output_type": "display_data"
    }
   ],
   "source": [
    "plt.figure(figsize=(16,6))\n",
    "\n",
    "\n",
    "ax= sns.countplot(x= 'det_lang', data=df_updated, order = df_updated['det_lang'].value_counts(ascending=False).index)\n",
    "ax.set_title('Language distribution')\n",
    "ax.set_xlabel('Languages')\n",
    "\n",
    "#ax.set_xticklabels(ax.get_xticklabels(),rotation=90)\n",
    "#plt.xticks(rotation=90) #outputs array before the graph\n",
    "\n",
    "for tick in ax.get_xticklabels():\n",
    "    tick.set_rotation(90)\n",
    "    \n",
    "#plt.savefig('static/images/lan_dist.png',bbox_inches='tight')"
   ]
  },
  {
   "cell_type": "code",
   "execution_count": 14,
   "metadata": {
    "extensions": {
     "jupyter_dashboards": {
      "activeView": "grid_default",
      "views": {
       "grid_default": {
        "col": null,
        "height": 2,
        "hidden": true,
        "row": null,
        "width": 2
       }
      }
     }
    },
    "scrolled": true,
    "tags": []
   },
   "outputs": [],
   "source": [
    "\n",
    "#Ipython.OutputArea.auto_scroll_threshold = 10 #Tried to set the scroll display threshold. unsuccesful.\n",
    "\n",
    "view_extracts=['new_desc','det_lang','clean_captions','caption_processed_4','hashtags','cap_mentions','web_links' ]\n",
    "#df_updated[view_extracts].loc[ex_row_list]\n",
    "\n",
    "df_updated[view_extracts].head(100)\n",
    "\n",
    "#add new elemnts to exemplar list\n",
    "ex_row_list.append(3) #accents in differnt language\n",
    "\n",
    "\n",
    "\n"
   ]
  },
  {
   "cell_type": "markdown",
   "metadata": {
    "extensions": {
     "jupyter_dashboards": {
      "activeView": "grid_default",
      "version": 1,
      "views": {
       "grid_default": {
        "col": null,
        "height": 2,
        "hidden": true,
        "row": null,
        "width": 2
       },
       "report_default": {}
      }
     }
    }
   },
   "source": [
    "### Language\n",
    "    - appears that errors in the language are for those descriptions which do not have readable text. Either blank or emojis. Fonts have been normalized but not much improvement."
   ]
  },
  {
   "cell_type": "code",
   "execution_count": 15,
   "metadata": {
    "extensions": {
     "jupyter_dashboards": {
      "activeView": "grid_default",
      "version": 1,
      "views": {
       "grid_default": {
        "col": null,
        "height": 2,
        "hidden": true,
        "row": null,
        "width": 2
       },
       "report_default": {}
      }
     }
    }
   },
   "outputs": [
    {
     "data": {
      "text/html": [
       "<div>\n",
       "<style scoped>\n",
       "    .dataframe tbody tr th:only-of-type {\n",
       "        vertical-align: middle;\n",
       "    }\n",
       "\n",
       "    .dataframe tbody tr th {\n",
       "        vertical-align: top;\n",
       "    }\n",
       "\n",
       "    .dataframe thead th {\n",
       "        text-align: right;\n",
       "    }\n",
       "</style>\n",
       "<table border=\"1\" class=\"dataframe\">\n",
       "  <thead>\n",
       "    <tr style=\"text-align: right;\">\n",
       "      <th></th>\n",
       "      <th>clean_captions</th>\n",
       "      <th>caption_processed</th>\n",
       "      <th>caption_processed_2</th>\n",
       "      <th>caption_processed_3</th>\n",
       "      <th>caption_processed_4</th>\n",
       "      <th>det_lang</th>\n",
       "    </tr>\n",
       "  </thead>\n",
       "  <tbody>\n",
       "    <tr>\n",
       "      <th>0</th>\n",
       "      <td></td>\n",
       "      <td></td>\n",
       "      <td></td>\n",
       "      <td></td>\n",
       "      <td></td>\n",
       "      <td>error</td>\n",
       "    </tr>\n",
       "    <tr>\n",
       "      <th>50</th>\n",
       "      <td></td>\n",
       "      <td></td>\n",
       "      <td></td>\n",
       "      <td></td>\n",
       "      <td></td>\n",
       "      <td>error</td>\n",
       "    </tr>\n",
       "    <tr>\n",
       "      <th>51</th>\n",
       "      <td>•</td>\n",
       "      <td>•</td>\n",
       "      <td>•</td>\n",
       "      <td></td>\n",
       "      <td></td>\n",
       "      <td>error</td>\n",
       "    </tr>\n",
       "    <tr>\n",
       "      <th>54</th>\n",
       "      <td>❤🐔🐣🦆 . . . . .</td>\n",
       "      <td>❤🐔🐣🦆 . . . . .</td>\n",
       "      <td>❤🐔🐣🦆 . . . . .</td>\n",
       "      <td>❤🐔🐣🦆</td>\n",
       "      <td>❤🐔🐣🦆</td>\n",
       "      <td>error</td>\n",
       "    </tr>\n",
       "    <tr>\n",
       "      <th>59</th>\n",
       "      <td>💞 . . . .</td>\n",
       "      <td>💞 . . . .</td>\n",
       "      <td>💞 . . . .</td>\n",
       "      <td>💞</td>\n",
       "      <td>💞</td>\n",
       "      <td>error</td>\n",
       "    </tr>\n",
       "    <tr>\n",
       "      <th>62</th>\n",
       "      <td></td>\n",
       "      <td></td>\n",
       "      <td></td>\n",
       "      <td></td>\n",
       "      <td></td>\n",
       "      <td>error</td>\n",
       "    </tr>\n",
       "    <tr>\n",
       "      <th>72</th>\n",
       "      <td></td>\n",
       "      <td></td>\n",
       "      <td></td>\n",
       "      <td></td>\n",
       "      <td></td>\n",
       "      <td>error</td>\n",
       "    </tr>\n",
       "    <tr>\n",
       "      <th>124</th>\n",
       "      <td></td>\n",
       "      <td></td>\n",
       "      <td></td>\n",
       "      <td></td>\n",
       "      <td></td>\n",
       "      <td>error</td>\n",
       "    </tr>\n",
       "    <tr>\n",
       "      <th>131</th>\n",
       "      <td>.</td>\n",
       "      <td>.</td>\n",
       "      <td>.</td>\n",
       "      <td></td>\n",
       "      <td></td>\n",
       "      <td>error</td>\n",
       "    </tr>\n",
       "    <tr>\n",
       "      <th>132</th>\n",
       "      <td>.</td>\n",
       "      <td>.</td>\n",
       "      <td>.</td>\n",
       "      <td></td>\n",
       "      <td></td>\n",
       "      <td>error</td>\n",
       "    </tr>\n",
       "  </tbody>\n",
       "</table>\n",
       "</div>"
      ],
      "text/plain": [
       "     clean_captions caption_processed caption_processed_2 caption_processed_3  \\\n",
       "0                                                                               \n",
       "50                                                                              \n",
       "51                •                 •                   •                       \n",
       "54   ❤🐔🐣🦆 . . . . .    ❤🐔🐣🦆 . . . . .      ❤🐔🐣🦆 . . . . .           ❤🐔🐣🦆        \n",
       "59        💞 . . . .         💞 . . . .           💞 . . . .               💞       \n",
       "62                                                                              \n",
       "72                                                                              \n",
       "124                                                                             \n",
       "131               .                 .                   .                       \n",
       "132               .                 .                   .                       \n",
       "\n",
       "    caption_processed_4 det_lang  \n",
       "0                          error  \n",
       "50                         error  \n",
       "51                         error  \n",
       "54            ❤🐔🐣🦆         error  \n",
       "59                💞        error  \n",
       "62                         error  \n",
       "72                         error  \n",
       "124                        error  \n",
       "131                        error  \n",
       "132                        error  "
      ]
     },
     "execution_count": 15,
     "metadata": {},
     "output_type": "execute_result"
    }
   ],
   "source": [
    "\n",
    "df_updated[view3][df_updated['det_lang']=='error'].head(10)"
   ]
  },
  {
   "cell_type": "markdown",
   "metadata": {
    "extensions": {
     "jupyter_dashboards": {
      "activeView": "grid_default",
      "version": 1,
      "views": {
       "grid_default": {
        "col": null,
        "height": 2,
        "hidden": true,
        "row": null,
        "width": 2
       },
       "report_default": {}
      }
     }
    }
   },
   "source": [
    "## Co-occurence matrix\n",
    "\n",
    "Consider using a co-occurence matrix from the 3_Mar NLP notebook. In this matrix, it summarises the total extent of coccurence of any 2 unique words.\n",
    "So each tweet (or caption text) is a matri with either '1' or '0'.\n",
    "\n",
    "EAch iteration of the for loop (at lowest nested level), 1 unique word is tested for co-occurence with other words.\n",
    "\n",
    "- for loop of tweets\n",
    "    - for loop of 1st unique word in range of all unique\n",
    "        - for loop of 1st vs {2nd, 3rd..nth word}\n",
    "            - lowest level iteration adds a '1' or '0' to a list L1\n",
    "        - At end of 1 full cycle of lowest level loop we have list of co-occ of first word with all other words L1:[1,0,0,1,..n]\n",
    "    - At end of 2nd level loop, we have a co-occ matrix for a single tweet made of only 1's or 0's\n",
    "    - [1st:[0,0,0,1,..n]  \n",
    "         2nd:[1,0,1,1,..n]  \n",
    "         nth:[0,1,1,0,..n]]  \n",
    "         \n",
    "         n*n matrix for each tweet.\n",
    "         \n",
    "- At the end of highest level loop (3rd level) sum of co-occ arrays of all tweets. So a single n*n matrix\n",
    "           \n",
    "        \n",
    "        \n",
    "          \n",
    "           \n",
    "           \n",
    "           \n",
    "           \n",
    "           \n",
    "         "
   ]
  },
  {
   "cell_type": "markdown",
   "metadata": {
    "extensions": {
     "jupyter_dashboards": {
      "activeView": "grid_default",
      "views": {
       "grid_default": {
        "col": null,
        "height": 2,
        "hidden": true,
        "row": null,
        "width": 2
       }
      }
     }
    }
   },
   "source": [
    "## Use case of Co-occ matrixes:\n",
    "### To make categories of types of businesses based on co-occuring hashtags\n",
    "    - Get co-occurences by different categories. pharma, skincare, etc. Or causally interpret the categories based on the co-occurences. \n",
    "    - In this case, source the full list of co-occurences and just manually classify these into categories.\n",
    "    \n",
    "### Define a scale of business-likeness\n",
    "    - A higher score may indicate more influence on things like(look for correlation):\n",
    "        - choice of hashtags\n",
    "        - frequency of posting \n",
    "        - co-occs with \"trending\" hashtags or terminology\n",
    "        - count of hashtags\n",
    "        - website :T or F\n",
    "        - \n",
    "        \n",
    "### Account for unrelated \"#organic\" posts\n",
    "    - That is think about the usage where they just throw in the term to do some \"virtue signalling\".\n",
    "    - If so what is the context of their signalling. exemplar index '80'. \n",
    "        - It is a vegan food item. But here maybe they are trying to signal \"healthy\" to eat? \n",
    "        \n",
    "    \n",
    "    \n",
    "    \n",
    "    "
   ]
  },
  {
   "cell_type": "markdown",
   "metadata": {},
   "source": [
    "## Wordcloud for English stopwords"
   ]
  },
  {
   "cell_type": "code",
   "execution_count": 16,
   "metadata": {
    "extensions": {
     "jupyter_dashboards": {
      "activeView": "grid_default",
      "version": 1,
      "views": {
       "grid_default": {
        "col": null,
        "height": 2,
        "hidden": true,
        "row": null,
        "width": 2
       },
       "report_default": {}
      }
     }
    }
   },
   "outputs": [
    {
     "data": {
      "image/png": "[encoded data removed]",
      "text/plain": [
       "<Figure size 576x576 with 1 Axes>"
      ]
     },
     "metadata": {
      "needs_background": "light"
     },
     "output_type": "display_data"
    },
    {
     "data": {
      "text/plain": [
       "<wordcloud.wordcloud.WordCloud at 0x7ff51f94c5b0>"
      ]
     },
     "execution_count": 16,
     "metadata": {},
     "output_type": "execute_result"
    }
   ],
   "source": [
    "#Change the reference column for caption_processed.\n",
    "\n",
    "\n",
    "word_string = \"\"\n",
    "for ind,row in df_updated.iterrows():\n",
    "    word_string += (row['caption_processed_4']+\" \")\n",
    "\n",
    "#size of plot\n",
    "fig_dims = (8, 8)\n",
    "fig, ax = plt.subplots(figsize=fig_dims)\n",
    "\n",
    "wordcloud = WordCloud(max_words=100,    \n",
    "                      stopwords= STOPWORDS,\n",
    "                      collocations=False,\n",
    "                      color_func=lambda *args, **kwargs: \"orange\",\n",
    "                      background_color='white',\n",
    "                      width=1200,     \n",
    "                      height=1000).generate(word_string)\n",
    "plt.title(\"#Organic english stopwords\")\n",
    "plt.imshow(wordcloud, interpolation='bilinear')\n",
    "plt.axis('off')\n",
    "plt.show()\n",
    "wordcloud.to_file(\"static/images/eng_sw_wc.png\")"
   ]
  },
  {
   "cell_type": "markdown",
   "metadata": {
    "extensions": {
     "jupyter_dashboards": {
      "activeView": "grid_default",
      "version": 1,
      "views": {
       "grid_default": {
        "col": null,
        "height": 2,
        "hidden": true,
        "row": null,
        "width": 2
       },
       "report_default": {}
      }
     }
    }
   },
   "source": [
    "#### Check example cases of the top words\n",
    " \"u\", \"de\", \"la\", \"e\", \n"
   ]
  },
  {
   "cell_type": "code",
   "execution_count": 17,
   "metadata": {
    "extensions": {
     "jupyter_dashboards": {
      "activeView": "grid_default",
      "version": 1,
      "views": {
       "grid_default": {
        "col": null,
        "height": 2,
        "hidden": true,
        "row": null,
        "width": 2
       },
       "report_default": {}
      }
     }
    }
   },
   "outputs": [],
   "source": [
    "# Define stop words. Observed that french stop words may also need to be removed\n",
    "#Add custom stopwords to the default \"STOPWORDS\" list\n",
    "\n",
    "\n",
    "type(STOPWORDS) #set\n",
    "len(STOPWORDS) #192\n",
    "\n",
    "#stop_words = set(stopwords.words(\"english\"))\n",
    "#len(stop_words)#179\n",
    "\n",
    "stop_words_fr= set(stopwords.words(\"french\"))\n",
    "len(stop_words_fr) #157\n",
    "\n",
    "combined_stopwords=STOPWORDS.union(stop_words_fr)\n"
   ]
  },
  {
   "cell_type": "markdown",
   "metadata": {},
   "source": [
    "## Wordcloud for English and French stopwords"
   ]
  },
  {
   "cell_type": "code",
   "execution_count": 18,
   "metadata": {
    "extensions": {
     "jupyter_dashboards": {
      "activeView": "grid_default",
      "version": 1,
      "views": {
       "grid_default": {
        "col": null,
        "height": 2,
        "hidden": true,
        "row": null,
        "width": 2
       },
       "report_default": {}
      }
     }
    }
   },
   "outputs": [
    {
     "data": {
      "image/png": "[encoded data removed]",
      "text/plain": [
       "<Figure size 576x576 with 1 Axes>"
      ]
     },
     "metadata": {
      "needs_background": "light"
     },
     "output_type": "display_data"
    },
    {
     "data": {
      "text/plain": [
       "<wordcloud.wordcloud.WordCloud at 0x7ff52290ad90>"
      ]
     },
     "execution_count": 18,
     "metadata": {},
     "output_type": "execute_result"
    }
   ],
   "source": [
    "\n",
    "word_string = \"\"\n",
    "for ind,row in df_updated.iterrows():\n",
    "    word_string += (row['caption_processed_4']+\" \")\n",
    "\n",
    "    \n",
    "    \n",
    "#size of plot\n",
    "fig_dims = (8, 8)\n",
    "fig, ax = plt.subplots(figsize=fig_dims)\n",
    "\n",
    "combined_stopwords = stopwords.words('english') + stopwords.words('french')\n",
    "\n",
    "wordcloud = WordCloud(max_words=100,    \n",
    "                      stopwords= combined_stopwords,\n",
    "                      collocations=False,\n",
    "                      color_func=lambda *args, **kwargs: \"orange\",\n",
    "                      background_color='white',\n",
    "                      width=1200,     \n",
    "                      height=1000).generate(word_string)\n",
    "plt.title(\"#Organic en_fr stopwords\")\n",
    "plt.imshow(wordcloud, interpolation='bilinear')\n",
    "plt.axis('off')\n",
    "plt.show()\n",
    "wordcloud.to_file(\"static/images/en_fr_sw_wc.png\")"
   ]
  },
  {
   "cell_type": "markdown",
   "metadata": {
    "extensions": {
     "jupyter_dashboards": {
      "activeView": "grid_default",
      "version": 1,
      "views": {
       "grid_default": {
        "col": null,
        "height": 2,
        "hidden": true,
        "row": null,
        "width": 2
       },
       "report_default": {}
      }
     }
    }
   },
   "source": [
    "#### check where the string has :\n",
    "'u', 'e', 'o'\n",
    "\n"
   ]
  },
  {
   "cell_type": "markdown",
   "metadata": {
    "extensions": {
     "jupyter_dashboards": {
      "activeView": "grid_default",
      "version": 1,
      "views": {
       "grid_default": {
        "col": null,
        "height": 2,
        "hidden": true,
        "row": null,
        "width": 2
       },
       "report_default": {}
      }
     }
    },
    "tags": []
   },
   "source": [
    "    Punctutations removed and hence ('s ) used for plurals appears to dominate the wordcloud"
   ]
  },
  {
   "cell_type": "markdown",
   "metadata": {
    "extensions": {
     "jupyter_dashboards": {
      "activeView": "grid_default",
      "version": 1,
      "views": {
       "grid_default": {
        "col": null,
        "height": 2,
        "hidden": true,
        "row": null,
        "width": 2
       },
       "report_default": {}
      }
     }
    }
   },
   "source": [
    "    Construct the dahsboard as you move along. It is useful to use a dashboard view to compare charts and build a story as you move through it."
   ]
  },
  {
   "cell_type": "markdown",
   "metadata": {
    "extensions": {
     "jupyter_dashboards": {
      "activeView": "grid_default",
      "version": 1,
      "views": {
       "grid_default": {
        "col": null,
        "height": 2,
        "hidden": true,
        "row": null,
        "width": 2
       },
       "report_default": {}
      }
     }
    }
   },
   "source": [
    "## Build a dashboard for the live view\n",
    "\n",
    "    Have the graph objects in program buffer.\n",
    "    Have a template which accepts the name of the graph objects. So just pass the graph objects into the template and render it.\n",
    "    \n",
    "    Use plotly dash. All these apps work well with a standalone .py file as obtained from a spyder env."
   ]
  },
  {
   "cell_type": "markdown",
   "metadata": {},
   "source": [
    "#### Notes about plotly wiht dash from the example code: https://www.youtube.com/watch?v=lVYRhHREkGo\n",
    "    - First the layout is defined. A parent Div feeds its value to the child Divs. So the dropdown value updates both graphs.\n",
    "    - Then for each graph, it has its own \"callback\" function. This has the input and output components defined, and an associated function which accepts the input and returns the output. The component property which is mentioned in the callback specifies the action type which trigger the value to be passed to the relevant graph."
   ]
  },
  {
   "cell_type": "code",
   "execution_count": 16,
   "metadata": {},
   "outputs": [
    {
     "data": {
      "text/html": [
       "<div>\n",
       "<style scoped>\n",
       "    .dataframe tbody tr th:only-of-type {\n",
       "        vertical-align: middle;\n",
       "    }\n",
       "\n",
       "    .dataframe tbody tr th {\n",
       "        vertical-align: top;\n",
       "    }\n",
       "\n",
       "    .dataframe thead th {\n",
       "        text-align: right;\n",
       "    }\n",
       "</style>\n",
       "<table border=\"1\" class=\"dataframe\">\n",
       "  <thead>\n",
       "    <tr style=\"text-align: right;\">\n",
       "      <th></th>\n",
       "      <th>new_desc</th>\n",
       "      <th>det_lang</th>\n",
       "      <th>clean_captions</th>\n",
       "      <th>caption_processed_4</th>\n",
       "      <th>hashtags</th>\n",
       "      <th>cap_mentions</th>\n",
       "      <th>web_links</th>\n",
       "    </tr>\n",
       "  </thead>\n",
       "  <tbody>\n",
       "    <tr>\n",
       "      <th>0</th>\n",
       "      <td>#l4l #f4f #likeforlike  #instalikesandfollowers4u #nature #instagood #organic #fff #love #vegandiet #nutricious #followforfollow #photooftheday #lfl #like4like #instalike #vegetables #instafood #healthyfood #follow4follow #food #instadaily @rocket_hastags #healthy #foodpics #veganlife</td>\n",
       "      <td>error</td>\n",
       "      <td></td>\n",
       "      <td></td>\n",
       "      <td>#l4l #f4f #likeforlike #instalikesandfollowers4u #nature #instagood #organic #fff #love #vegandiet #nutricious #followforfollow #photooftheday #lfl #like4like #instalike #vegetables #instafood #healthyfood #follow4follow #food #instadaily #healthy #foodpics #veganlife</td>\n",
       "      <td>@rocket_hastags</td>\n",
       "      <td></td>\n",
       "    </tr>\n",
       "    <tr>\n",
       "      <th>1</th>\n",
       "      <td>Originál je pouze jeden! Posílame každý den kurýrem přímo k vám..📬 Děkujeme za krásné foto..❤️ https://carboncoco.cz/ ⚫️👉🏽😁👉🏽💎 @carboncoco_cz #přírodní #bělení #zubů #krásnej #zdravej #bílej #úsměv #bezbolesti #bezchemie #naturalbeauty #organic #whiteteeth #veganfriendly #nottestedonanimals #🐾❤</td>\n",
       "      <td>cs</td>\n",
       "      <td>Originál je pouze jeden! Posílame každý den kurýrem přímo k vám..📬 Děkujeme za krásné foto..❤️ ⚫️👉🏽😁👉🏽💎</td>\n",
       "      <td>originál je pouze jeden posílame každý den kurýrem přímo k vám 📬 děkujeme za krásné foto ❤️ ⚫️👉🏽😁👉🏽💎</td>\n",
       "      <td>#přírodní #bělení #zubů #krásnej #zdravej #bílej #úsměv #bezbolesti #bezchemie #naturalbeauty #organic #whiteteeth #veganfriendly #nottestedonanimals #🐾❤</td>\n",
       "      <td>@carboncoco_cz</td>\n",
       "      <td>https://carboncoco.cz/</td>\n",
       "    </tr>\n",
       "  </tbody>\n",
       "</table>\n",
       "</div>"
      ],
      "text/plain": [
       "                                                                                                                                                                                                                                                                                                                       new_desc  \\\n",
       "0                                 #l4l #f4f #likeforlike  #instalikesandfollowers4u #nature #instagood #organic #fff #love #vegandiet #nutricious #followforfollow #photooftheday #lfl #like4like #instalike #vegetables #instafood #healthyfood #follow4follow #food #instadaily @rocket_hastags #healthy #foodpics #veganlife   \n",
       "1  Originál je pouze jeden! Posílame každý den kurýrem přímo k vám..📬 Děkujeme za krásné foto..❤️ https://carboncoco.cz/ ⚫️👉🏽😁👉🏽💎 @carboncoco_cz #přírodní #bělení #zubů #krásnej #zdravej #bílej #úsměv #bezbolesti #bezchemie #naturalbeauty #organic #whiteteeth #veganfriendly #nottestedonanimals #🐾❤   \n",
       "\n",
       "  det_lang  \\\n",
       "0    error   \n",
       "1       cs   \n",
       "\n",
       "                                                                                                       clean_captions  \\\n",
       "0                                                                                                                       \n",
       "1  Originál je pouze jeden! Posílame každý den kurýrem přímo k vám..📬 Děkujeme za krásné foto..❤️ ⚫️👉🏽😁👉🏽💎   \n",
       "\n",
       "                                                                                    caption_processed_4  \\\n",
       "0                                                                                                         \n",
       "1  originál je pouze jeden posílame každý den kurýrem přímo k vám 📬 děkujeme za krásné foto ❤️ ⚫️👉🏽😁👉🏽💎   \n",
       "\n",
       "                                                                                                                                                                                                                                                                       hashtags  \\\n",
       "0  #l4l #f4f #likeforlike #instalikesandfollowers4u #nature #instagood #organic #fff #love #vegandiet #nutricious #followforfollow #photooftheday #lfl #like4like #instalike #vegetables #instafood #healthyfood #follow4follow #food #instadaily #healthy #foodpics #veganlife   \n",
       "1                                                                                                           #přírodní #bělení #zubů #krásnej #zdravej #bílej #úsměv #bezbolesti #bezchemie #naturalbeauty #organic #whiteteeth #veganfriendly #nottestedonanimals #🐾❤   \n",
       "\n",
       "      cap_mentions               web_links  \n",
       "0  @rocket_hastags                          \n",
       "1   @carboncoco_cz  https://carboncoco.cz/  "
      ]
     },
     "execution_count": 16,
     "metadata": {},
     "output_type": "execute_result"
    }
   ],
   "source": [
    "df_updated[view_extracts].head(2)"
   ]
  },
  {
   "cell_type": "code",
   "execution_count": 19,
   "metadata": {},
   "outputs": [
    {
     "data": {
      "text/plain": [
       "Index(['new_desc', 'det_lang', 'clean_captions', 'caption_processed_4',\n",
       "       'hashtags', 'cap_mentions', 'web_links'],\n",
       "      dtype='object')"
      ]
     },
     "execution_count": 19,
     "metadata": {},
     "output_type": "execute_result"
    }
   ],
   "source": [
    "dff=df_updated[view_extracts]\n",
    "dff.columns"
   ]
  },
  {
   "cell_type": "markdown",
   "metadata": {},
   "source": [
    "### Dash table display\n",
    "\n",
    "    - Add select all check for the dash table"
   ]
  },
  {
   "cell_type": "code",
   "execution_count": 20,
   "metadata": {},
   "outputs": [
    {
     "data": {
      "text/plain": [
       "pandas.core.series.Series"
      ]
     },
     "execution_count": 20,
     "metadata": {},
     "output_type": "execute_result"
    }
   ],
   "source": [
    "disp1=['ix','new_desc','det_lang','caption_processed_4']\n",
    "df_disp_1 = df_updated[disp1]\n",
    "\n",
    "chosen_cols = [3,4]\n",
    "\n",
    "df_filtered1 = df_disp_1.caption_processed_4 # series\n",
    "#df_filtered2 = df_disp_1.chosen_cols[0] # series\n",
    "\n",
    "\n",
    "df_filtered2 = df_disp_1.iloc[:,chosen_cols[0]]\n",
    "\n",
    "type(df_filtered2)\n",
    "# print(type(df_filtered1))\n",
    "# print(type(df_filtered2))\n",
    "\n",
    "# # df_filtered.head(1)\n",
    "\n",
    "#df_filtered1\n",
    "\n",
    "# chosen_cols[0]"
   ]
  },
  {
   "cell_type": "code",
   "execution_count": 27,
   "metadata": {},
   "outputs": [
    {
     "name": "stdout",
     "output_type": "stream",
     "text": [
      "Dash is running on http://127.0.0.1:8050/\n",
      "\n",
      "Dash is running on http://127.0.0.1:8050/\n",
      "\n",
      " * Serving Flask app \"__main__\" (lazy loading)\n",
      " * Environment: production\n",
      "\u001b[31m   WARNING: This is a development server. Do not use it in a production deployment.\u001b[0m\n",
      "\u001b[2m   Use a production WSGI server instead.\u001b[0m\n",
      " * Debug mode: off\n"
     ]
    },
    {
     "name": "stderr",
     "output_type": "stream",
     "text": [
      " * Running on http://127.0.0.1:8050/ (Press CTRL+C to quit)\n",
      "127.0.0.1 - - [02/Sep/2021 12:51:38] \"\u001b[37mGET / HTTP/1.1\u001b[0m\" 200 -\n",
      "127.0.0.1 - - [02/Sep/2021 12:51:39] \"\u001b[37mGET /_dash-dependencies HTTP/1.1\u001b[0m\" 200 -\n",
      "127.0.0.1 - - [02/Sep/2021 12:51:40] \"\u001b[37mGET /_dash-layout HTTP/1.1\u001b[0m\" 200 -\n",
      "127.0.0.1 - - [02/Sep/2021 12:51:40] \"\u001b[37mGET /_dash-component-suites/dash_core_components/async-dropdown.js HTTP/1.1\u001b[0m\" 200 -\n",
      "127.0.0.1 - - [02/Sep/2021 12:51:40] \"\u001b[37mGET /_dash-component-suites/dash_table/async-highlight.js HTTP/1.1\u001b[0m\" 200 -\n",
      "127.0.0.1 - - [02/Sep/2021 12:51:40] \"\u001b[37mGET /_dash-component-suites/dash_core_components/async-graph.js HTTP/1.1\u001b[0m\" 200 -\n",
      "127.0.0.1 - - [02/Sep/2021 12:51:40] \"\u001b[37mPOST /_dash-update-component HTTP/1.1\u001b[0m\" 200 -\n",
      "127.0.0.1 - - [02/Sep/2021 12:51:40] \"\u001b[37mGET /_dash-component-suites/dash_table/async-table.js HTTP/1.1\u001b[0m\" 200 -\n",
      "127.0.0.1 - - [02/Sep/2021 12:51:40] \"\u001b[37mGET /_dash-component-suites/dash_core_components/async-plotlyjs.js HTTP/1.1\u001b[0m\" 200 -\n",
      "127.0.0.1 - - [02/Sep/2021 12:51:45] \"\u001b[37mPOST /_dash-update-component HTTP/1.1\u001b[0m\" 200 -\n"
     ]
    }
   ],
   "source": [
    "import pandas as pd     #(version 1.0.0)\n",
    "import plotly           #(version 4.5.4) pip install plotly==4.5.4\n",
    "import plotly.express as px\n",
    "\n",
    "import dash             #(version 1.9.1) pip install dash==1.9.1\n",
    "import dash_table\n",
    "import dash_core_components as dcc\n",
    "import dash_html_components as html\n",
    "from dash.dependencies import Input, Output, State\n",
    "\n",
    "import dash_bootstrap_components as dbc\n",
    "\n",
    "# dff=df_updated[view_extracts]\n",
    "\n",
    "disp1=['ix','new_desc','caption_processed_4','hashtags'] #select columns to display in the dashtable\n",
    "df_disp_1 = df_updated[disp1]\n",
    "\n",
    "app = dash.Dash(__name__)\n",
    "\n",
    "#---------------------------------------------------------------\n",
    "\n",
    "\n",
    "\n",
    "\n",
    "col_sels = ['new_desc','caption_processed_4','hashtags']   \n",
    "\n",
    "\n",
    "\n",
    "\n",
    "\n",
    "#---------------------------------------------------------------\n",
    "app.layout = html.Div([\n",
    "    \n",
    "################################### ROW1 ########################### Headers\n",
    "    html.Div([\n",
    "        dbc.Col(html.H3(\"Instagram data\"), className = 'eight columns'),\n",
    "        dbc.Col(html.H3(\"Wordcloud\"), className = 'two columns'),\n",
    "        \n",
    "    ], className = 'row'),\n",
    "    \n",
    "    \n",
    "    \n",
    "################################### ROW2 ########################### Dropdown and Render Button\n",
    "#     col_sels=[]\n",
    " \n",
    "    \n",
    "    dcc.Dropdown(id='my-dropdown', multi=True,\n",
    "                     options=[{'label': x, 'value': x} for x in col_sels],\n",
    "                     value=[\"caption_processed_4\" #initial values to pass\n",
    "                           ]),\n",
    "    \n",
    "    \n",
    "    \n",
    "    html.Button(id='my-button', n_clicks=0, children=\"Show breakdown\"),\n",
    "    \n",
    "    \n",
    "    \n",
    "    \n",
    "################################### ROW3 ###########################    \n",
    "    html.Div([\n",
    "        html.Div([\n",
    "            dash_table.DataTable(\n",
    "                id='datatable_id',\n",
    "                data=df_disp_1.to_dict('records'),\n",
    "                columns=[\n",
    "                    {\"name\": i, \"id\": i, \"deletable\": False, \"selectable\": True} for i in df_disp_1.columns\n",
    "                ],\n",
    "                editable=False,\n",
    "                filter_action=\"native\",\n",
    "                sort_action=\"native\",\n",
    "                sort_mode=\"multi\",\n",
    "                row_selectable=\"multi\",\n",
    "                row_deletable=False,\n",
    "                selected_rows=[], #this parameter gets updated by interactive selection\n",
    "                column_selectable= \"multi\",\n",
    "                selected_columns =[], # parameter updates by column selection\n",
    "                page_action=\"native\",\n",
    "                page_current= 0,\n",
    "                page_size= 10,\n",
    "\n",
    "                fixed_rows={ 'headers': True, 'data': 0 }, #if the header style is not defined and this is True, then the widths are not properly aligned\n",
    "    #             virtualization=False,\n",
    "    #             page_action = 'none',\n",
    "\n",
    "                style_cell={ #creates a wrapping of the data to constrain column widths. applies to header and data cells\n",
    "                    'whiteSpace': 'normal',\n",
    "                    'height': 'auto',\n",
    "                    'minWidth': '50px', 'width' : '50px','maxwidth': '50px',  # minwidth of col.             \n",
    "                    #'overflow': 'hidden'\n",
    "                    },\n",
    "\n",
    "                style_table={ #For parameters of the table container\n",
    "                    'height': '400px',\n",
    "                    'width': '700px',\n",
    "                    'overflowY': 'auto'\n",
    "                },\n",
    "\n",
    "                style_cell_conditional=[\n",
    "                    {'if': {'column_id': 'ix'},\n",
    "                     'width': '50px', 'textAlign': 'left'}, #Setting the px values 1400px seems to cover the width of the screen. \n",
    "\n",
    "                    {'if': {'column_id': 'new_desc'},\n",
    "                     'width': '220px', 'textAlign': 'left'},\n",
    "\n",
    "                    {'if': {'column_id': 'caption_processed_4'},\n",
    "                     'width': '220px', 'textAlign': 'left'},\n",
    "\n",
    "                    {'if': {'column_id': 'hashtags'},\n",
    "                     'width': '210px', 'textAlign': 'left'},\n",
    "                ],\n",
    "            ),\n",
    "        ],className='six columns'),\n",
    "        \n",
    "        html.Div([            \n",
    "            dbc.Col([\n",
    "                dbc.Card([\n",
    "                    dbc.CardBody([\n",
    "                        dcc.Graph(id='wordcloud', figure={}, config={'displayModeBar': False}),\n",
    "                    ])\n",
    "                ]),\n",
    "            ]),\n",
    "\n",
    "        ],className='six columns'), #to set the distance from the margin\n",
    "    ]),\n",
    "])\n",
    "\n",
    "\n",
    "\n",
    "################################ Render button callback ################################\n",
    "# @app.callback(\n",
    "\n",
    "    \n",
    "#     Output(component_id='graph-output', component_property='figure'),\n",
    "#     [Input(component_id='my-dropdown', component_property='value')],\n",
    "#     # [Input(component_id='my-button', component_property='n_clicks')],\n",
    "#     # [State(component_id='my-dropdown', component_property='value')],\n",
    "#     prevent_initial_call=False\n",
    "# )\n",
    "\n",
    "\n",
    "\n",
    "\n",
    "\n",
    "\n",
    "################################ Wordcloud callback ################################\n",
    "@app.callback(\n",
    "    Output('wordcloud','figure'),\n",
    "    [Input('datatable_id','selected_rows'),\n",
    "    Input('datatable_id','selected_columns')]\n",
    ")\n",
    "\n",
    "def wordcloud_update(chosen_rows, chosen_cols):\n",
    "    \n",
    "    if len(chosen_cols) == 0:\n",
    "        if len(chosen_rows)==0:              \n",
    "            df_filtered = df_disp_1.caption_processed_4\n",
    "\n",
    "        else:\n",
    "            df_filtered = df_disp_1.caption_processed_4[df_disp_1.index.isin(chosen_rows)] #filter by selected rows\n",
    "\n",
    "\n",
    "    else:\n",
    "        if len(chosen_rows)==0:              \n",
    "            df_filtered = df_disp_1.iloc[:,chosen_cols[0]] #pass the columns in this way to avoid dataframe output by [[]] \n",
    "\n",
    "        else:\n",
    "            df_filtered = df_disp_1.iloc[chosen_rows, chosen_cols[0]]\n",
    "        \n",
    "#     print(chosen_cols)\n",
    "\n",
    "\n",
    "    combined_stopwords = stopwords.words('english') + stopwords.words('french')\n",
    "\n",
    "    wordcloud = WordCloud(max_words=100,    \n",
    "                          stopwords= combined_stopwords,\n",
    "                          collocations=False,\n",
    "                          color_func=lambda *args, **kwargs: \"orange\",\n",
    "                          background_color='white',\n",
    "                          width=1200,     \n",
    "                          height=1000).generate(' '.join(df_filtered)) #df_filtered has to be a series\n",
    "    \n",
    "    \n",
    "    fig_wordcloud = px.imshow(wordcloud, template='ggplot2',\n",
    "                              title=\"wordcloud of eng and fr stopwords\")\n",
    "    \n",
    "    fig_wordcloud.update_layout(margin=dict(l=20, r=20, t=30, b=20))\n",
    "    fig_wordcloud.update_xaxes(visible=False)\n",
    "    fig_wordcloud.update_yaxes(visible=False)\n",
    "    \n",
    "    return fig_wordcloud\n",
    "\n",
    "@app.callback(\n",
    "    Output('datatable_id', 'style_data_conditional'),\n",
    "    Input('datatable_id', 'selected_columns')\n",
    ")\n",
    "\n",
    "def update_styles(selected_columns):\n",
    "    return [{\n",
    "        'if': { 'column_id': i },\n",
    "        'background_color': '#D2F3FF'\n",
    "    } for i in selected_columns]\n",
    "\n",
    "\n",
    "\n",
    "    \n",
    "\n",
    "if __name__ == '__main__':\n",
    "    app.run_server(debug=False)"
   ]
  },
  {
   "cell_type": "markdown",
   "metadata": {},
   "source": [
    "## Checkpoint before attempting to create dropdown based selection of columns to consider. "
   ]
  },
  {
   "cell_type": "code",
   "execution_count": 21,
   "metadata": {},
   "outputs": [
    {
     "name": "stdout",
     "output_type": "stream",
     "text": [
      "Dash is running on http://127.0.0.1:8050/\n",
      "\n",
      " * Serving Flask app \"__main__\" (lazy loading)\n",
      " * Environment: production\n",
      "\u001b[31m   WARNING: This is a development server. Do not use it in a production deployment.\u001b[0m\n",
      "\u001b[2m   Use a production WSGI server instead.\u001b[0m\n",
      " * Debug mode: off\n"
     ]
    },
    {
     "name": "stderr",
     "output_type": "stream",
     "text": [
      " * Running on http://127.0.0.1:8050/ (Press CTRL+C to quit)\n",
      "127.0.0.1 - - [02/Sep/2021 11:08:41] \"\u001b[37mGET / HTTP/1.1\u001b[0m\" 200 -\n",
      "127.0.0.1 - - [02/Sep/2021 11:08:41] \"\u001b[37mGET /assets/bWLwgP.css?m=1629981144.0 HTTP/1.1\u001b[0m\" 200 -\n",
      "127.0.0.1 - - [02/Sep/2021 11:08:41] \"\u001b[37mGET /_dash-component-suites/dash/deps/polyfill@7.v1_21_0m1627189189.12.1.min.js HTTP/1.1\u001b[0m\" 200 -\n",
      "127.0.0.1 - - [02/Sep/2021 11:08:41] \"\u001b[37mGET /_dash-component-suites/dash/deps/react@16.v1_21_0m1627189189.14.0.min.js HTTP/1.1\u001b[0m\" 200 -\n",
      "127.0.0.1 - - [02/Sep/2021 11:08:41] \"\u001b[37mGET /_dash-component-suites/dash/deps/react-dom@16.v1_21_0m1627189189.14.0.min.js HTTP/1.1\u001b[0m\" 200 -\n",
      "127.0.0.1 - - [02/Sep/2021 11:08:41] \"\u001b[37mGET /_dash-component-suites/dash/deps/prop-types@15.v1_21_0m1627189189.7.2.min.js HTTP/1.1\u001b[0m\" 200 -\n",
      "127.0.0.1 - - [02/Sep/2021 11:08:41] \"\u001b[37mGET /_dash-component-suites/dash_bootstrap_components/_components/dash_bootstrap_components.v0_13_0m1627744119.min.js HTTP/1.1\u001b[0m\" 200 -\n",
      "127.0.0.1 - - [02/Sep/2021 11:08:41] \"\u001b[37mGET /_dash-component-suites/dash_table/bundle.v4_12_0m1626177982.js HTTP/1.1\u001b[0m\" 200 -\n",
      "127.0.0.1 - - [02/Sep/2021 11:08:41] \"\u001b[37mGET /_dash-component-suites/dash_html_components/dash_html_components.v1_1_4m1626177950.min.js HTTP/1.1\u001b[0m\" 200 -\n",
      "127.0.0.1 - - [02/Sep/2021 11:08:41] \"\u001b[37mGET /_dash-component-suites/dash_core_components/dash_core_components-shared.v1_17_1m1626177975.js HTTP/1.1\u001b[0m\" 200 -\n",
      "127.0.0.1 - - [02/Sep/2021 11:08:41] \"\u001b[37mGET /_dash-component-suites/dash/dash-renderer/build/dash_renderer.v1_21_0m1627189189.min.js HTTP/1.1\u001b[0m\" 200 -\n",
      "127.0.0.1 - - [02/Sep/2021 11:08:41] \"\u001b[37mGET /_dash-component-suites/dash_core_components/dash_core_components.v1_17_1m1626177975.js HTTP/1.1\u001b[0m\" 200 -\n",
      "127.0.0.1 - - [02/Sep/2021 11:08:41] \"\u001b[37mGET /_dash-dependencies HTTP/1.1\u001b[0m\" 200 -\n",
      "127.0.0.1 - - [02/Sep/2021 11:08:42] \"\u001b[37mGET /_dash-layout HTTP/1.1\u001b[0m\" 200 -\n",
      "127.0.0.1 - - [02/Sep/2021 11:08:42] \"\u001b[37mGET /_dash-component-suites/dash_table/async-highlight.js HTTP/1.1\u001b[0m\" 200 -\n",
      "127.0.0.1 - - [02/Sep/2021 11:08:42] \"\u001b[37mGET /_dash-component-suites/dash_table/async-table.js HTTP/1.1\u001b[0m\" 200 -\n",
      "127.0.0.1 - - [02/Sep/2021 11:08:42] \"\u001b[37mGET /_dash-component-suites/dash_core_components/async-graph.js HTTP/1.1\u001b[0m\" 200 -\n",
      "127.0.0.1 - - [02/Sep/2021 11:08:42] \"\u001b[37mPOST /_dash-update-component HTTP/1.1\u001b[0m\" 200 -\n",
      "127.0.0.1 - - [02/Sep/2021 11:08:43] \"\u001b[37mGET /_dash-component-suites/dash_core_components/async-plotlyjs.js HTTP/1.1\u001b[0m\" 200 -\n",
      "127.0.0.1 - - [02/Sep/2021 11:08:48] \"\u001b[37mPOST /_dash-update-component HTTP/1.1\u001b[0m\" 200 -\n",
      "127.0.0.1 - - [02/Sep/2021 11:08:53] \"\u001b[37mPOST /_dash-update-component HTTP/1.1\u001b[0m\" 200 -\n"
     ]
    }
   ],
   "source": [
    "# import pandas as pd     #(version 1.0.0)\n",
    "# import plotly           #(version 4.5.4) pip install plotly==4.5.4\n",
    "# import plotly.express as px\n",
    "\n",
    "# import dash             #(version 1.9.1) pip install dash==1.9.1\n",
    "# import dash_table\n",
    "# import dash_core_components as dcc\n",
    "# import dash_html_components as html\n",
    "# from dash.dependencies import Input, Output, State\n",
    "\n",
    "# import dash_bootstrap_components as dbc\n",
    "\n",
    "# # dff=df_updated[view_extracts]\n",
    "\n",
    "# disp1=['ix','new_desc','det_lang','caption_processed_4']\n",
    "# df_disp_1 = df_updated[disp1]\n",
    "\n",
    "# app = dash.Dash(__name__)\n",
    "\n",
    "# #---------------------------------------------------------------\n",
    "\n",
    "# #dff=df_updated[view_extracts]\n",
    "# #print (dff[:5])\n",
    "# #---------------------------------------------------------------\n",
    "# app.layout = html.Div([\n",
    "    \n",
    "# ################################### ROW1 ###########################\n",
    "#     html.Div([\n",
    "#         dbc.Col(html.H3(\"Instagram data\"), className = 'eight columns'),\n",
    "#         dbc.Col(html.H3(\"Wordcloud\"), className = 'two columns'),\n",
    "        \n",
    "#     ], className = 'row'),\n",
    "    \n",
    "    \n",
    "# ################################### ROW2 ###########################    \n",
    "#     html.Div([\n",
    "#         html.Div([\n",
    "#             dash_table.DataTable(\n",
    "#                 id='datatable_id',\n",
    "#                 data=df_disp_1.to_dict('records'),\n",
    "#                 columns=[\n",
    "#                     {\"name\": i, \"id\": i, \"deletable\": False, \"selectable\": True} for i in df_disp_1.columns\n",
    "#                 ],\n",
    "#                 editable=False,\n",
    "#                 filter_action=\"native\",\n",
    "#                 sort_action=\"native\",\n",
    "#                 sort_mode=\"multi\",\n",
    "#                 row_selectable=\"multi\",\n",
    "#                 row_deletable=False,\n",
    "#                 selected_rows=[], #this parameter gets updated by interactive selection\n",
    "#                 column_selectable= \"multi\",\n",
    "#                 selected_columns =[], # parameter updates by column selection\n",
    "#                 page_action=\"native\",\n",
    "#                 page_current= 0,\n",
    "#                 page_size= 10,\n",
    "\n",
    "#                 fixed_rows={ 'headers': True, 'data': 0 }, #if the header style is not defined and this is True, then the widths are not properly aligned\n",
    "#     #             virtualization=False,\n",
    "#     #             page_action = 'none',\n",
    "\n",
    "#                 style_cell={ #creates a wrapping of the data to constrain column widths. applies to header and data cells\n",
    "#                     'whiteSpace': 'normal',\n",
    "#                     'height': 'auto',\n",
    "#                     'minWidth': '50px', 'width' : '50px','maxwidth': '50px',  # minwidth of col.             \n",
    "#                     #'overflow': 'hidden'\n",
    "#                     },\n",
    "\n",
    "#                 style_table={ #For parameters of the table container\n",
    "#                     'height': '400px',\n",
    "#                     'width': '700px',\n",
    "#                     'overflowY': 'auto'\n",
    "#                 },\n",
    "\n",
    "#                 style_cell_conditional=[\n",
    "#                     {'if': {'column_id': 'ix'},\n",
    "#                      'width': '50px', 'textAlign': 'left'}, #Setting the px values 1400px seems to cover the width of the screen. \n",
    "\n",
    "#                     {'if': {'column_id': 'new_desc'},\n",
    "#                      'width': '300px', 'textAlign': 'left'},\n",
    "\n",
    "#                     {'if': {'column_id': 'det_lang'},\n",
    "#                      'width': '50px', 'textAlign': 'left'},\n",
    "\n",
    "#                     {'if': {'column_id': 'caption_processed_4'},\n",
    "#                      'width': '300px', 'textAlign': 'left'},\n",
    "#                 ],\n",
    "#             ),\n",
    "#         ],className='six columns'),\n",
    "        \n",
    "#         html.Div([            \n",
    "#             dbc.Col([\n",
    "#                 dbc.Card([\n",
    "#                     dbc.CardBody([\n",
    "#                         dcc.Graph(id='wordcloud', figure={}, config={'displayModeBar': False}),\n",
    "#                     ])\n",
    "#                 ]),\n",
    "#             ]),\n",
    "\n",
    "#         ],className='six columns'), #to set the distance from the margin\n",
    "#     ]),\n",
    "# ])\n",
    "\n",
    "\n",
    "# ################################ Wordcloud callback ################################\n",
    "# @app.callback(\n",
    "#     Output('wordcloud','figure'),\n",
    "#     [Input('datatable_id','selected_rows'),\n",
    "#     Input('datatable_id','selected_columns')]\n",
    "# )\n",
    "\n",
    "# def wordcloud_update(chosen_rows, chosen_cols):\n",
    "    \n",
    "#     if len(chosen_cols) == 0:\n",
    "#         if len(chosen_rows)==0:              \n",
    "#             df_filtered = df_disp_1.caption_processed_4\n",
    "\n",
    "#         else:\n",
    "#             df_filtered = df_disp_1.caption_processed_4[df_disp_1.index.isin(chosen_rows)] #filter by selected rows\n",
    "\n",
    "\n",
    "#     else:\n",
    "#         if len(chosen_rows)==0:              \n",
    "#             df_filtered = df_disp_1.iloc[:,chosen_cols[0]] #pass the columns in this way to avoid dataframe output by [[]] \n",
    "\n",
    "#         else:\n",
    "#             df_filtered = df_disp_1.iloc[chosen_rows, chosen_cols[0]]\n",
    "        \n",
    "# #     print(chosen_cols)\n",
    "\n",
    "\n",
    "#     combined_stopwords = stopwords.words('english') + stopwords.words('french')\n",
    "\n",
    "#     wordcloud = WordCloud(max_words=100,    \n",
    "#                           stopwords= combined_stopwords,\n",
    "#                           collocations=False,\n",
    "#                           color_func=lambda *args, **kwargs: \"orange\",\n",
    "#                           background_color='white',\n",
    "#                           width=1200,     \n",
    "#                           height=1000).generate(' '.join(df_filtered)) #df_filtered has to be a series\n",
    "    \n",
    "    \n",
    "#     fig_wordcloud = px.imshow(wordcloud, template='ggplot2',\n",
    "#                               title=\"wordcloud of eng and fr stopwords\")\n",
    "    \n",
    "#     fig_wordcloud.update_layout(margin=dict(l=20, r=20, t=30, b=20))\n",
    "#     fig_wordcloud.update_xaxes(visible=False)\n",
    "#     fig_wordcloud.update_yaxes(visible=False)\n",
    "    \n",
    "#     return fig_wordcloud\n",
    "\n",
    "# @app.callback(\n",
    "#     Output('datatable_id', 'style_data_conditional'),\n",
    "#     Input('datatable_id', 'selected_columns')\n",
    "# )\n",
    "\n",
    "# def update_styles(selected_columns):\n",
    "#     return [{\n",
    "#         'if': { 'column_id': i },\n",
    "#         'background_color': '#D2F3FF'\n",
    "#     } for i in selected_columns]\n",
    "\n",
    "\n",
    "\n",
    "    \n",
    "\n",
    "# if __name__ == '__main__':\n",
    "#     app.run_server(debug=False)"
   ]
  },
  {
   "cell_type": "code",
   "execution_count": null,
   "metadata": {},
   "outputs": [],
   "source": []
  }
 ],
 "metadata": {
  "extensions": {
   "jupyter_dashboards": {
    "activeView": "grid_default",
    "version": 1,
    "views": {
     "grid_default": {
      "cellMargin": 2,
      "defaultCellHeight": 60,
      "maxColumns": 12,
      "name": "grid",
      "type": "grid"
     },
     "report_default": {
      "name": "report",
      "type": "report"
     }
    }
   }
  },
  "kernelspec": {
   "display_name": "Python 3",
   "language": "python",
   "name": "python3"
  },
  "language_info": {
   "codemirror_mode": {
    "name": "ipython",
    "version": 3
   },
   "file_extension": ".py",
   "mimetype": "text/x-python",
   "name": "python",
   "nbconvert_exporter": "python",
   "pygments_lexer": "ipython3",
   "version": "3.8.5"
  }
 },
 "nbformat": 4,
 "nbformat_minor": 4
}
